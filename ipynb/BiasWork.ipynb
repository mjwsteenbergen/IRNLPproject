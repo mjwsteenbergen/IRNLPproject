{
 "cells": [
  {
   "cell_type": "code",
   "execution_count": 91,
   "metadata": {},
   "outputs": [],
   "source": [
    "import nltk\n",
    "from nltk import agreement\n",
    "import pandas as pd\n",
    "from nltk.metrics import interval_distance, binary_distance \n"
   ]
  },
  {
   "cell_type": "code",
   "execution_count": 92,
   "metadata": {},
   "outputs": [],
   "source": [
    "df_truth = pd.read_json(\"../fulldata/truth.jsonl\", lines=True, encoding='utf-8'); \n",
    "judgments = df_truth.truthJudgments\n",
    "\n",
    "datamatrix = []\n",
    "for i  in judgments: \n",
    "    datamatrix.append(i)\n",
    "    \n",
    "numPosts =len(datamatrix)\n",
    "\n",
    "for i in range(0,5):\n",
    "    for j in range(0,numPosts):\n",
    "        datamatrix[j][i] = round(datamatrix[j][i]*3) #making sure that all the answers are on same format \n",
    "        #so we dont have 0.3334 and 0.33334 that dont match.\n"
   ]
  },
  {
   "cell_type": "code",
   "execution_count": 93,
   "metadata": {},
   "outputs": [
    {
     "name": "stdout",
     "output_type": "stream",
     "text": [
      "alpha-Binary 0.12101330526125009\n",
      "alpha-Interval 0.29522582453846746\n"
     ]
    }
   ],
   "source": [
    "postdata=[]\n",
    "\n",
    "\n",
    "for i in range(0,5):\n",
    "    for j in range(0,numPosts):\n",
    "        #print(str(j)+\",\"+str(i)+\"  \"+str(matrix[j][i]))\n",
    "        postdata.append((i,j,datamatrix[j][i]))\n",
    "\n",
    "#print(postdata)\n",
    "\n",
    "ratingtaskBinary = agreement.AnnotationTask(data=postdata, distance=binary_distance)\n",
    "ratingtaskInterval = agreement.AnnotationTask(data=postdata, distance=interval_distance)\n",
    "#print(\"kappa \" +str(ratingtask.kappa())) # not relevant for us\n",
    "#print(\"fleiss \" + str(ratingtask.multi_kappa())) #not relevant for us\n",
    "print(\"alpha-Binary \" + str(ratingtaskBinary.alpha())) # not relevant for us\n",
    "print(\"alpha-Interval \" + str(ratingtaskInterval.alpha()))\n"
   ]
  },
  {
   "cell_type": "code",
   "execution_count": null,
   "metadata": {},
   "outputs": [],
   "source": []
  }
 ],
 "metadata": {
  "kernelspec": {
   "display_name": "Python 3",
   "language": "python",
   "name": "python3"
  },
  "language_info": {
   "codemirror_mode": {
    "name": "ipython",
    "version": 3
   },
   "file_extension": ".py",
   "mimetype": "text/x-python",
   "name": "python",
   "nbconvert_exporter": "python",
   "pygments_lexer": "ipython3",
   "version": "3.7.2"
  }
 },
 "nbformat": 4,
 "nbformat_minor": 2
}
